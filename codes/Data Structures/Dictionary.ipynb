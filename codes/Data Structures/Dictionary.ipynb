{
 "cells": [
  {
   "cell_type": "markdown",
   "metadata": {},
   "source": [
    "DICTIONARY\n",
    " - HOW TDECLARE IT\n",
    " - HOW TO ACCES KEY AND VALUES OF A DICTIONARY\n",
    " HOW TO USE LOOP DICTIONARY\n",
    " INDEXING IN DICTIONARY\n",
    "  "
   ]
  },
  {
   "cell_type": "code",
   "execution_count": 23,
   "metadata": {},
   "outputs": [
    {
     "name": "stdout",
     "output_type": "stream",
     "text": [
      "{'name': 'john', 'class': 'physics', 'roll_no': 12, 'age': 18, 'marks': 70}\n"
     ]
    }
   ],
   "source": [
    "student = {\n",
    "    \"name\": \"john\",\n",
    "    \"class\": \"physics\",\n",
    "    \"roll_no\": 12,\n",
    "    \"age\" : 18,\n",
    "    \"marks\" : 70\n",
    "}\n",
    "print(student)\n"
   ]
  },
  {
   "cell_type": "code",
   "execution_count": 24,
   "metadata": {},
   "outputs": [
    {
     "name": "stdout",
     "output_type": "stream",
     "text": [
      "{'Lucknow': [25, 30, 35], 'Delhi': [30, 35, 40], 'Mumbai': [35, 40, 45]}\n"
     ]
    }
   ],
   "source": [
    "temp = {\n",
    "    'Lucknow' : [25,30,35],\n",
    "    'Delhi' : [30,35,40],\n",
    "    'Mumbai': [35,40,45]\n",
    "}\n",
    "print(temp)"
   ]
  },
  {
   "cell_type": "code",
   "execution_count": 25,
   "metadata": {},
   "outputs": [
    {
     "name": "stdout",
     "output_type": "stream",
     "text": [
      "{'name': 'john', 'age': 22, 'city': 'New york'}\n"
     ]
    }
   ],
   "source": [
    "info = dict(name = 'john', age = 22, city = 'New york')\n",
    "print(info)"
   ]
  },
  {
   "cell_type": "code",
   "execution_count": 26,
   "metadata": {},
   "outputs": [
    {
     "name": "stdout",
     "output_type": "stream",
     "text": [
      "{'name': 'faizan', 'age': 23, 'city': 'dehradun'}\n"
     ]
    }
   ],
   "source": [
    "x  = dict(name = input(\"Enter your name\"),age = int(input(\"Enter your age\")),\n",
    "city = input(\"enter your city \"))\n",
    "print(x)"
   ]
  },
  {
   "cell_type": "code",
   "execution_count": 27,
   "metadata": {},
   "outputs": [
    {
     "name": "stdout",
     "output_type": "stream",
     "text": [
      "john\n",
      "12\n"
     ]
    }
   ],
   "source": [
    "# lst method to access value through key \n",
    "print(student['name'])\n",
    "print(student['roll_no'])\n"
   ]
  },
  {
   "cell_type": "code",
   "execution_count": 28,
   "metadata": {},
   "outputs": [
    {
     "name": "stdout",
     "output_type": "stream",
     "text": [
      "john\n",
      "12\n",
      "70\n"
     ]
    }
   ],
   "source": [
    "#2nd method \n",
    "print(student.get('name'))\n",
    "print(student.get('roll_no'))\n",
    "print(student.get('marks'))"
   ]
  },
  {
   "cell_type": "code",
   "execution_count": 29,
   "metadata": {},
   "outputs": [
    {
     "name": "stdout",
     "output_type": "stream",
     "text": [
      "{'name': 'john', 'class': 'physics', 'roll_no': 12, 'age': 18, 'marks': 70, 'school': 'DPS', 'city': 'Lucknow'}\n"
     ]
    }
   ],
   "source": [
    "#to add item in dictonary \n",
    "student['school']= 'DPS'\n",
    "student['city'] = 'Lucknow'\n",
    "print(student)"
   ]
  },
  {
   "cell_type": "code",
   "execution_count": 30,
   "metadata": {},
   "outputs": [
    {
     "name": "stdout",
     "output_type": "stream",
     "text": [
      "dict_keys(['name', 'class', 'roll_no', 'age', 'marks', 'school', 'city'])\n",
      "dict_values(['john', 'physics', 12, 18, 70, 'DPS', 'Lucknow'])\n",
      "dict_items([('name', 'john'), ('class', 'physics'), ('roll_no', 12), ('age', 18), ('marks', 70), ('school', 'DPS'), ('city', 'Lucknow')])\n"
     ]
    }
   ],
   "source": [
    "print(student.keys())\n",
    "print(student.values())\n",
    "print(student.items())"
   ]
  },
  {
   "cell_type": "code",
   "execution_count": 31,
   "metadata": {},
   "outputs": [
    {
     "name": "stdout",
     "output_type": "stream",
     "text": [
      "name\n",
      "class\n",
      "roll_no\n",
      "age\n",
      "marks\n",
      "school\n",
      "city\n"
     ]
    }
   ],
   "source": [
    "for k in student:\n",
    "    print(k)"
   ]
  },
  {
   "cell_type": "code",
   "execution_count": 32,
   "metadata": {},
   "outputs": [
    {
     "name": "stdout",
     "output_type": "stream",
     "text": [
      "name john\n",
      "class physics\n",
      "roll_no 12\n",
      "age 18\n",
      "marks 70\n",
      "school DPS\n",
      "city Lucknow\n"
     ]
    }
   ],
   "source": [
    "for k,v in student.items():\n",
    "    print(k,v)"
   ]
  },
  {
   "cell_type": "code",
   "execution_count": 39,
   "metadata": {},
   "outputs": [
    {
     "name": "stdout",
     "output_type": "stream",
     "text": [
      "{'emp001': {'name': 'John', 'age': 27, 'dept': 'HR', 'salary': 30000}, 'emp002': {'name': 'Smit', 'age': 24, 'dept': 'Engineering', 'salary': 50000}, 'emp003': {'name': 'Mark', 'age': 30, 'dept': 'Finance', 'salary': 40000}, 'emp004': {'name': 'Alex', 'age': 29, 'dept': 'IT', 'salary': 60000}}\n"
     ]
    }
   ],
   "source": [
    "company = {\n",
    "    'emp001' : {'name' : 'John','age' : 27, 'dept' : 'HR', 'salary' : 30000 },\n",
    "    'emp002' : {'name' : 'Smit', 'age' : 24, 'dept' : 'Engineering', 'salary' : 50000},\n",
    "    'emp003' : {'name' : 'Mark', 'age' : 30, 'dept' : 'Finance', 'salary' : 40000},\n",
    "    'emp004' : {'name' : 'Alex', 'age' : 29, 'dept' : 'IT', 'salary' : 60000},\n",
    "}\n",
    "print(company)\n"
   ]
  },
  {
   "cell_type": "code",
   "execution_count": 40,
   "metadata": {},
   "outputs": [
    {
     "name": "stdout",
     "output_type": "stream",
     "text": [
      "{'emp001': {'name': 'John', 'age': 27, 'dept': 'HR', 'salary': 30000},\n",
      " 'emp002': {'name': 'Smit', 'age': 24, 'dept': 'Engineering', 'salary': 50000},\n",
      " 'emp003': {'name': 'Mark', 'age': 30, 'dept': 'Finance', 'salary': 40000},\n",
      " 'emp004': {'name': 'Alex', 'age': 29, 'dept': 'IT', 'salary': 60000}}\n"
     ]
    }
   ],
   "source": [
    "from pprint import pp\n",
    "pp(company)"
   ]
  },
  {
   "cell_type": "code",
   "execution_count": 41,
   "metadata": {},
   "outputs": [
    {
     "name": "stdout",
     "output_type": "stream",
     "text": [
      "Alex\n"
     ]
    }
   ],
   "source": [
    "print(company['emp004']['name'])"
   ]
  },
  {
   "cell_type": "code",
   "execution_count": 42,
   "metadata": {},
   "outputs": [
    {
     "name": "stdout",
     "output_type": "stream",
     "text": [
      "30\n",
      "40\n"
     ]
    }
   ],
   "source": [
    "print(temp['Lucknow'][1])\n",
    "print(temp['Delhi'][2])"
   ]
  },
  {
   "cell_type": "code",
   "execution_count": 45,
   "metadata": {},
   "outputs": [
    {
     "name": "stdout",
     "output_type": "stream",
     "text": [
      "Average temprature of Delhi is: 35.0\n"
     ]
    }
   ],
   "source": [
    "\n",
    "# print averabge temprature of  delhi\n",
    "print('Average temprature of Delhi is:', sum(temp['Delhi'])/len(temp['Delhi']))"
   ]
  },
  {
   "cell_type": "code",
   "execution_count": null,
   "metadata": {},
   "outputs": [],
   "source": []
  }
 ],
 "metadata": {
  "kernelspec": {
   "display_name": "Python 3",
   "language": "python",
   "name": "python3"
  },
  "language_info": {
   "codemirror_mode": {
    "name": "ipython",
    "version": 3
   },
   "file_extension": ".py",
   "mimetype": "text/x-python",
   "name": "python",
   "nbconvert_exporter": "python",
   "pygments_lexer": "ipython3",
   "version": "3.12.3"
  }
 },
 "nbformat": 4,
 "nbformat_minor": 2
}
