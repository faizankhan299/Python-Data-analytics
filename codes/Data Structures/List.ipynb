{
 "cells": [
  {
   "cell_type": "code",
   "execution_count": 4,
   "metadata": {},
   "outputs": [
    {
     "name": "stdout",
     "output_type": "stream",
     "text": [
      "['google', 'linkedin', 'zomato', 'instagram', 'facebook', 'whatsapp', 'photos', 'swigy', 'maps', 'spotify', 'drve', 'phonepay', 'appstore']\n"
     ]
    }
   ],
   "source": [
    "apps = ['google','linkedin','zomato','instagram','facebook','whatsapp','photos','swigy','maps','spotify','drve','phonepay','appstore']\n",
    "print(apps)"
   ]
  },
  {
   "cell_type": "code",
   "execution_count": 6,
   "metadata": {},
   "outputs": [
    {
     "name": "stdout",
     "output_type": "stream",
     "text": [
      "zomato\n",
      "facebook\n",
      "appstore\n",
      "maps\n"
     ]
    }
   ],
   "source": [
    "# indesxing\n",
    "print(apps[2])\n",
    "print(apps[4])\n",
    "print(apps[-1])\n",
    "print(apps[-5])"
   ]
  },
  {
   "cell_type": "code",
   "execution_count": 11,
   "metadata": {},
   "outputs": [
    {
     "name": "stdout",
     "output_type": "stream",
     "text": [
      "['zomato', 'instagram', 'facebook', 'whatsapp', 'photos', 'swigy']\n",
      "['google', 'zomato', 'facebook', 'photos', 'maps', 'drve']\n",
      "['google', 'linkedin', 'zomato', 'instagram', 'facebook', 'whatsapp']\n",
      "['instagram', 'facebook', 'whatsapp', 'photos', 'swigy', 'maps', 'spotify', 'drve', 'phonepay', 'appstore']\n",
      "['google', 'linkedin', 'zomato', 'instagram', 'facebook', 'whatsapp', 'photos', 'swigy', 'maps', 'spotify', 'drve', 'phonepay', 'appstore']\n"
     ]
    }
   ],
   "source": [
    "#slicing\n",
    "print(apps[2:8])\n",
    "print(apps[0:12:2])\n",
    "print(apps[:6])\n",
    "print(apps[3:])\n",
    "print(apps[:])"
   ]
  },
  {
   "cell_type": "markdown",
   "metadata": {},
   "source": [
    "LIST METHODS\n",
    "- Appends()\n",
    "- insert()\n",
    "- pop()\n",
    "- removed()\n",
    "- sort()\n",
    "- reverse()\n",
    "- extend()\n",
    "- copy()\n",
    "- clear()"
   ]
  },
  {
   "cell_type": "code",
   "execution_count": 12,
   "metadata": {},
   "outputs": [
    {
     "name": "stdout",
     "output_type": "stream",
     "text": [
      "['google', 'linkedin', 'zomato', 'instagram', 'facebook', 'whatsapp', 'photos', 'swigy', 'maps', 'spotify', 'drve', 'phonepay', 'appstore']\n"
     ]
    }
   ],
   "source": [
    "print (apps)"
   ]
  },
  {
   "cell_type": "code",
   "execution_count": 13,
   "metadata": {},
   "outputs": [
    {
     "name": "stdout",
     "output_type": "stream",
     "text": [
      "['google', 'linkedin', 'zomato', 'instagram', 'facebook', 'whatsapp', 'photos', 'swigy', 'maps', 'spotify', 'drve', 'phonepay', 'appstore', 'snapchat']\n"
     ]
    }
   ],
   "source": [
    "apps.append('snapchat')\n",
    "print(apps)"
   ]
  },
  {
   "cell_type": "code",
   "execution_count": 14,
   "metadata": {},
   "outputs": [
    {
     "name": "stdout",
     "output_type": "stream",
     "text": [
      "['google', 'linkedin', 'zomato', 'instagram', 'rapido', 'facebook', 'whatsapp', 'photos', 'swigy', 'maps', 'spotify', 'drve', 'phonepay', 'appstore', 'snapchat']\n"
     ]
    }
   ],
   "source": [
    "apps.insert(4,'rapido')\n",
    "print(apps)\n"
   ]
  },
  {
   "cell_type": "code",
   "execution_count": 15,
   "metadata": {},
   "outputs": [
    {
     "name": "stdout",
     "output_type": "stream",
     "text": [
      "['google', 'linkedin', 'zomato', 'instagram', 'rapido', 'facebook', 'whatsapp', 'swigy', 'maps', 'spotify', 'drve', 'phonepay', 'appstore', 'snapchat']\n"
     ]
    }
   ],
   "source": [
    "apps.pop(7)\n",
    "print(apps)"
   ]
  },
  {
   "cell_type": "code",
   "execution_count": 16,
   "metadata": {},
   "outputs": [
    {
     "name": "stdout",
     "output_type": "stream",
     "text": [
      "['google', 'linkedin', 'zomato', 'instagram', 'rapido', 'facebook', 'whatsapp', 'maps', 'spotify', 'drve', 'phonepay', 'appstore', 'snapchat']\n"
     ]
    }
   ],
   "source": [
    "apps.remove('swigy')\n",
    "print(apps)"
   ]
  },
  {
   "cell_type": "code",
   "execution_count": 17,
   "metadata": {},
   "outputs": [
    {
     "name": "stdout",
     "output_type": "stream",
     "text": [
      "['appstore', 'drve', 'facebook', 'google', 'instagram', 'linkedin', 'maps', 'phonepay', 'rapido', 'snapchat', 'spotify', 'whatsapp', 'zomato']\n"
     ]
    }
   ],
   "source": [
    "apps.sort()\n",
    "print(apps)"
   ]
  },
  {
   "cell_type": "code",
   "execution_count": 18,
   "metadata": {},
   "outputs": [
    {
     "name": "stdout",
     "output_type": "stream",
     "text": [
      "['zomato', 'whatsapp', 'spotify', 'snapchat', 'rapido', 'phonepay', 'maps', 'linkedin', 'instagram', 'google', 'facebook', 'drve', 'appstore']\n"
     ]
    }
   ],
   "source": [
    "apps.reverse()\n",
    "print(apps)"
   ]
  },
  {
   "cell_type": "code",
   "execution_count": 24,
   "metadata": {},
   "outputs": [
    {
     "name": "stdout",
     "output_type": "stream",
     "text": [
      "['youtube', 'twitter', 'calendar', 'telegram']\n"
     ]
    }
   ],
   "source": [
    "apps2 = ['youtube','twitter','calendar','telegram']\n",
    "\n",
    "\n",
    "print(apps2)"
   ]
  },
  {
   "cell_type": "code",
   "execution_count": 25,
   "metadata": {},
   "outputs": [
    {
     "name": "stdout",
     "output_type": "stream",
     "text": [
      "['youtube', 'twitter', 'calendar', 'telegram', 'zomato', 'whatsapp', 'spotify', 'snapchat', 'rapido', 'phonepay', 'maps', 'linkedin', 'instagram', 'google', 'facebook', 'drve', 'appstore', 'youtube', 'twitter', 'calendar', 'youtube', 'twitter', 'calendar', 'telegram', 'youtube', 'twitter', 'calendar', 'telegram']\n"
     ]
    }
   ],
   "source": [
    "apps2.extend(apps)\n",
    "print(apps2)"
   ]
  },
  {
   "cell_type": "code",
   "execution_count": 26,
   "metadata": {},
   "outputs": [
    {
     "name": "stdout",
     "output_type": "stream",
     "text": [
      "['zomato', 'whatsapp', 'spotify', 'snapchat', 'rapido', 'phonepay', 'maps', 'linkedin', 'instagram', 'google', 'facebook', 'drve', 'appstore', 'youtube', 'twitter', 'calendar', 'youtube', 'twitter', 'calendar', 'telegram', 'youtube', 'twitter', 'calendar', 'telegram']\n"
     ]
    }
   ],
   "source": [
    "b = apps.copy()\n",
    "print(b) "
   ]
  },
  {
   "cell_type": "code",
   "execution_count": 27,
   "metadata": {},
   "outputs": [
    {
     "name": "stdout",
     "output_type": "stream",
     "text": [
      "[]\n"
     ]
    }
   ],
   "source": [
    "apps.clear()\n",
    "print(apps)"
   ]
  },
  {
   "cell_type": "code",
   "execution_count": 29,
   "metadata": {},
   "outputs": [
    {
     "name": "stdout",
     "output_type": "stream",
     "text": [
      "['zomato', 'whatsapp', 'spotify', 'snapchat', 'rapido', 'phonepay', 'maps', 'linkedin', 'instagram', 'google', 'facebook', 'drve', 'appstore', 'youtube', 'twitter', 'calendar', 'youtube', 'twitter', 'calendar', 'telegram', 'youtube', 'twitter', 'calendar', 'telegram']\n"
     ]
    }
   ],
   "source": [
    "print(b)"
   ]
  },
  {
   "cell_type": "markdown",
   "metadata": {},
   "source": [
    " - List Comprehnesion"
   ]
  },
  {
   "cell_type": "code",
   "execution_count": 6,
   "metadata": {},
   "outputs": [
    {
     "name": "stdout",
     "output_type": "stream",
     "text": [
      "[1, 4, 9, 16, 25, 36, 49, 64, 81, 100]\n"
     ]
    }
   ],
   "source": [
    "lst = [1,2,3,4,5,6,7,8,9,10]\n",
    "new_lst = []\n",
    "for i in lst:\n",
    " new_lst.append(i**2)\n",
    "print(new_lst)\n"
   ]
  },
  {
   "cell_type": "code",
   "execution_count": 7,
   "metadata": {},
   "outputs": [
    {
     "name": "stdout",
     "output_type": "stream",
     "text": [
      "[1, 2, 3, 4, 5, 6, 7, 8, 9, 10]\n"
     ]
    }
   ],
   "source": [
    "print (lst)"
   ]
  },
  {
   "cell_type": "code",
   "execution_count": 8,
   "metadata": {},
   "outputs": [
    {
     "name": "stdout",
     "output_type": "stream",
     "text": [
      "[1, 4, 9, 16, 25, 36, 49, 64, 81, 100]\n"
     ]
    }
   ],
   "source": [
    "lst = [1,2,3,4,5,6,7,8,9,10]\n",
    "square = [i**2 for i in lst]\n",
    "print(square)"
   ]
  },
  {
   "cell_type": "code",
   "execution_count": 9,
   "metadata": {},
   "outputs": [
    {
     "name": "stdout",
     "output_type": "stream",
     "text": [
      "[2, 4, 6, 8, 10, 12, 14, 16, 18, 20]\n"
     ]
    }
   ],
   "source": [
    "num = [2,4,3,5,6,7,8,9,10,11,12,13,14,15,16,17,18,19,20]\n",
    "even_num = [i for i in num if i%2  == 0]\n",
    "print(even_num)"
   ]
  },
  {
   "cell_type": "code",
   "execution_count": 10,
   "metadata": {},
   "outputs": [
    {
     "name": "stdout",
     "output_type": "stream",
     "text": [
      "['apple', 'banana', 'kiwi', 'orange', 'mango']\n"
     ]
    }
   ],
   "source": [
    "fruits = ['apple','banana','kiwi','pineapple','orange','mango','strawbery','watermellon']\n",
    "fruits1 = [i for i in fruits if len (i)<=6]\n",
    "print(fruits1)"
   ]
  },
  {
   "cell_type": "code",
   "execution_count": 18,
   "metadata": {},
   "outputs": [
    {
     "name": "stdout",
     "output_type": "stream",
     "text": [
      "['APPLE', 'BANANA', 'KIWI', 'PINEAPPLE', 'ORANGE', 'MANGO', 'STRAWBERY', 'WATERMELLON']\n"
     ]
    }
   ],
   "source": [
    "fruits2 = [i.upper() for i in fruits]\n",
    "print(fruits2)"
   ]
  },
  {
   "cell_type": "code",
   "execution_count": 20,
   "metadata": {},
   "outputs": [
    {
     "name": "stdout",
     "output_type": "stream",
     "text": [
      "['apple', 'banana', 'pineapple', 'orange', 'mango', 'strawbery', 'watermellon']\n"
     ]
    }
   ],
   "source": [
    "fruits = [i for i in fruits if 'a' in i]\n",
    "print(fruits)"
   ]
  },
  {
   "cell_type": "code",
   "execution_count": null,
   "metadata": {},
   "outputs": [],
   "source": []
  }
 ],
 "metadata": {
  "kernelspec": {
   "display_name": "Python 3",
   "language": "python",
   "name": "python3"
  },
  "language_info": {
   "codemirror_mode": {
    "name": "ipython",
    "version": 3
   },
   "file_extension": ".py",
   "mimetype": "text/x-python",
   "name": "python",
   "nbconvert_exporter": "python",
   "pygments_lexer": "ipython3",
   "version": "3.12.3"
  }
 },
 "nbformat": 4,
 "nbformat_minor": 2
}
