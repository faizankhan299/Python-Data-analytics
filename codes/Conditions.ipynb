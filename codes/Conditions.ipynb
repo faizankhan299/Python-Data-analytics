{
 "cells": [
  {
   "cell_type": "code",
   "execution_count": 1,
   "metadata": {},
   "outputs": [
    {
     "name": "stdout",
     "output_type": "stream",
     "text": [
      "A\n",
      "B\n"
     ]
    }
   ],
   "source": [
    "marks = 80\n",
    "if marks >= 90:\n",
    "    print('A+')\n",
    "if marks >=70:\n",
    "    print('A')\n",
    "if marks >60:\n",
    "    print('B')\n",
    "if marks < 60:\n",
    "    print('Poor Performance')"
   ]
  },
  {
   "cell_type": "code",
   "execution_count": 8,
   "metadata": {},
   "outputs": [
    {
     "name": "stdout",
     "output_type": "stream",
     "text": [
      "person is not eligible to vote\n"
     ]
    }
   ],
   "source": [
    "age = int(input(\"Enter the age\"))\n",
    "if age>=18:\n",
    "    print(\"person is eligible to vote\")\n",
    "else:\n",
    "    print(\"person is not eligible to vote\")"
   ]
  },
  {
   "cell_type": "code",
   "execution_count": 2,
   "metadata": {},
   "outputs": [
    {
     "name": "stdout",
     "output_type": "stream",
     "text": [
      "A\n"
     ]
    }
   ],
   "source": [
    "marks = 80\n",
    "if marks >= 90:\n",
    "    print('A+')\n",
    "elif marks >= 70:\n",
    "    print('A')\n",
    "elif marks >60:\n",
    "    print('B')\n",
    "elif marks <60:\n",
    "    print('poor performance')\n",
    "else:\n",
    "    print('Invalid Marks')"
   ]
  },
  {
   "cell_type": "code",
   "execution_count": 2,
   "metadata": {},
   "outputs": [
    {
     "name": "stdout",
     "output_type": "stream",
     "text": [
      "It is not a vowel\n"
     ]
    }
   ],
   "source": [
    "# enter a chracter from user check weather it is a vovel or not\n",
    "ch = input('Enter a character')\n",
    "vowel = ['a','e','i','o','u']\n",
    "if ch in vowel:\n",
    "    print(\"It is a vowel\")\n",
    "else:\n",
    "    print(\"It is not a vowel\")"
   ]
  },
  {
   "cell_type": "code",
   "execution_count": 7,
   "metadata": {},
   "outputs": [
    {
     "name": "stdout",
     "output_type": "stream",
     "text": [
      "It is a vowel\n"
     ]
    }
   ],
   "source": [
    "ch = input(\"Enter a character\")\n",
    "if ch == 'a' or ch == 'e' or ch=='i' or ch == 'o' or ch == 'u':\n",
    "    print(\"It is a vowel\")\n",
    "else:\n",
    "    print(\"it is not a vowel\")"
   ]
  },
  {
   "cell_type": "code",
   "execution_count": 3,
   "metadata": {},
   "outputs": [
    {
     "name": "stdout",
     "output_type": "stream",
     "text": [
      "it is a even number\n"
     ]
    }
   ],
   "source": [
    "#check weather a number is even or not\n",
    "\n",
    "a = int(input(\"enter a number\"))\n",
    "if a%2==0 :\n",
    "    print(\"it is a even number\")\n",
    "else:\n",
    "    print(\"it is n odd number\")"
   ]
  },
  {
   "cell_type": "code",
   "execution_count": 12,
   "metadata": {},
   "outputs": [
    {
     "name": "stdout",
     "output_type": "stream",
     "text": [
      "it is an equilateral triangle\n"
     ]
    }
   ],
   "source": [
    "# check weather the triangle is an equilateral triangle or not\n",
    "\n",
    "a = input(\"enter the first side\")\n",
    "b = input(\"enter the second side\")\n",
    "c = input (\"enter the third side\")\n",
    "if a==b and b==c and c==a :\n",
    "    print(\"it is an equilateral triangle\")\n",
    "else:\n",
    "    print(\"it is an isosles triangle\")  "
   ]
  },
  {
   "cell_type": "code",
   "execution_count": 5,
   "metadata": {},
   "outputs": [
    {
     "ename": "IndentationError",
     "evalue": "unindent does not match any outer indentation level (<string>, line 18)",
     "output_type": "error",
     "traceback": [
      "\u001b[1;36m  File \u001b[1;32m<string>:18\u001b[1;36m\u001b[0m\n\u001b[1;33m    print(\"user name is incorrect\")\u001b[0m\n\u001b[1;37m                                         ^\u001b[0m\n\u001b[1;31mIndentationError\u001b[0m\u001b[1;31m:\u001b[0m unindent does not match any outer indentation level\n"
     ]
    }
   ],
   "source": [
    "username = input(\"Enter the user name\")\n",
    "email = input(\"enter the email\")\n",
    "password = input(\"enter the password\")\n",
    "cpasswd = input(\"enter the confirm password\")\n",
    "if len(username)>5 and len(username)<15:\n",
    "    if '@' in email:\n",
    "        if len(password)>6 and len(password)<15:\n",
    "            if password == cpasswd:\n",
    "                print(\"Registration successful\")\n",
    "            else:\n",
    "                print(\"Password and confirm password should be same\")\n",
    "            else:\n",
    "        print (\"password does not match\")\n",
    "\n",
    "    else:\n",
    "        print(\"email is incorrect\")\n",
    "    else:\n",
    "print(\"user name is incorrect\")      \n"
   ]
  },
  {
   "cell_type": "code",
   "execution_count": null,
   "metadata": {},
   "outputs": [],
   "source": []
  }
 ],
 "metadata": {
  "kernelspec": {
   "display_name": "Python 3",
   "language": "python",
   "name": "python3"
  },
  "language_info": {
   "codemirror_mode": {
    "name": "ipython",
    "version": 3
   },
   "file_extension": ".py",
   "mimetype": "text/x-python",
   "name": "python",
   "nbconvert_exporter": "python",
   "pygments_lexer": "ipython3",
   "version": "3.12.3"
  }
 },
 "nbformat": 4,
 "nbformat_minor": 2
}
